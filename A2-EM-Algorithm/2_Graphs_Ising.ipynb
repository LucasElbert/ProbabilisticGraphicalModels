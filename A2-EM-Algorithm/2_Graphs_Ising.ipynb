{
 "cells": [
  {
   "cell_type": "markdown",
   "metadata": {},
   "source": [
    "# Probabilistic Graphical Models - Homework 2\n",
    "Lucas Elbert\n",
    "## 2. Graphs, algorithms and Ising\n",
    "### 2.1 Sum-product on an undirected chain"
   ]
  },
  {
   "cell_type": "code",
   "execution_count": 1,
   "metadata": {},
   "outputs": [],
   "source": [
    "import numpy as np\n",
    "from tqdm import tqdm \n",
    "    \n",
    "def logscale_sum(logs):\n",
    "    logs = np.array(logs)\n",
    "    l_max = logs.max()\n",
    "    return l_max + np.log(np.sum(np.exp(logs - l_max)))\n",
    "    #assert len(logs) > 1\n",
    "    #if len(logs)==2:\n",
    "    #    return logscale_sum(logs[0],logs[1])\n",
    "    #else:\n",
    "    #    return logscale_sum(logs[-1], logscale_list_sum(logs[:-1]))\n",
    "    \n",
    "def all_messages(n, K, log_potentials_1, log_potentials_2):\n",
    "    '''\n",
    "    Computes all forward and backward messages of an undirected chain by dynamic programming\n",
    "    This implementation assumes that all random variables are discrete and can only take K different values.\n",
    "        args:\n",
    "            n: number of nodes on the chain\n",
    "            K: number of discrete values that the nodes can take\n",
    "            potentials_1: function that gives the logs of all single node potentials (takes 2 parameters: the node number and its value)\n",
    "            potentials_2: function that gives the logs all potentials of edges (takes four parameters: the two participating node indices and their values)\n",
    "    Attention:\n",
    "        potentials should be given on a log scale (ln natural logarithm)!\n",
    "        messages that are returned are also on a log scale (ln natural logarithm)!\n",
    "    '''\n",
    "\n",
    "    # matrices of size (n-1,K) would suffice, only use size n to facilitate indexing\n",
    "    log_forward_msg = np.zeros((n-1,K),dtype='float') # log_forward_msg[i] = msgs from i -> i+1\n",
    "    log_backward_msg = np.zeros((n,K),dtype='float') # log_backward_msg[i] = msgs from i -> i-1\n",
    "    \n",
    "    def compute_single_msg(i, j, x_j, log_msg_to_i):\n",
    "        '''\n",
    "        Computes the logarithm of the msg i -> j with given x_j value\n",
    "        '''\n",
    "        logs = np.zeros(K)\n",
    "        for x_i in range(K):\n",
    "            logs[x_i] = (log_potentials_1(i,x_i) + log_potentials_2(i,j,x_i,x_j) + log_msg_to_i)\n",
    "        res = logscale_sum(logs)\n",
    "        #print('msg',i,'->',j,'(',x_j,') = sum(',logs,') = ',res)\n",
    "        return res\n",
    "    \n",
    "    # Iteratively construct messages\n",
    "    for i in range(n):\n",
    "        for k in range(K):\n",
    "            # Forward message\n",
    "            # msg i -> i+1 with x_i+1 = k\n",
    "            if i == n-1:\n",
    "                # last node has no forward message\n",
    "                pass\n",
    "            else:\n",
    "                if i == 0:\n",
    "                    log_incoming_msg = 0\n",
    "                else: \n",
    "                    log_incoming_msg = log_forward_msg[i-1, k]\n",
    "                log_forward_msg[i][k] = compute_single_msg(i, i+1, k, log_incoming_msg)\n",
    "            \n",
    "            # Backward message\n",
    "            # msg n-1-i -> n-2-i with x_n-2-i = k\n",
    "            if i == n-1:\n",
    "                # first node has no backward message\n",
    "                pass\n",
    "            else:\n",
    "                if i == 0:\n",
    "                    log_incoming_msg = 0\n",
    "                else:\n",
    "                    log_incoming_msg = log_backward_msg[n-i, k]\n",
    "                log_backward_msg[n-1-i][k] = compute_single_msg(n-1-i, n-2-i, k, log_incoming_msg)\n",
    "    \n",
    "    return log_forward_msg, log_backward_msg\n",
    "            \n",
    "            \n",
    "        \n",
    "\n",
    "def all_messages_from_matrices(log_potential_1, log_potential_2):\n",
    "    '''\n",
    "    Wrapper for 'all_messages'. Here the potentials are given in form of np.arrays\n",
    "        args:\n",
    "            log_potential_1 np.array of shape (n,K)\n",
    "            log_potential_2 np.array of shape (n-1,K,K) edges are indexed by the smaller node number of the participating nodes        \n",
    "    '''\n",
    "    n,K = log_potential_1.shape\n",
    "    def log_p1(i,k):\n",
    "        return log_potential_1[i,k]\n",
    "    def log_p2(i,j,k_i,k_j):\n",
    "        if i < j:\n",
    "            return log_potential_2[i,k_i,k_j]\n",
    "        else:\n",
    "            return log_potential_2[j,k_j,k_i]\n",
    "    return all_messages(n,K,log_p1,log_p2)"
   ]
  },
  {
   "cell_type": "markdown",
   "metadata": {},
   "source": [
    "### 2.2 Exact partition function of the Ising model"
   ]
  },
  {
   "cell_type": "code",
   "execution_count": 103,
   "metadata": {},
   "outputs": [
    {
     "name": "stdout",
     "output_type": "stream",
     "text": [
      "beta 0.0 Z 693.1471805599463\n",
      "beta 0.3 Z 998.8027642080397\n",
      "beta 0.6 Z 1368.1143161726668\n",
      "beta 0.8999999999999999 Z 1813.8577519247156\n",
      "beta 1.2 Z 2319.318398421477\n",
      "beta 1.5 Z 2858.465403791314\n",
      "beta 1.7999999999999998 Z 3413.1765914222065\n",
      "beta 2.1 Z 3974.6635442712677\n",
      "beta 2.4 Z 4539.116968528212\n",
      "beta 2.6999999999999997 Z 5104.904499156941\n",
      "beta 3.0 Z 5671.311081993601\n"
     ]
    }
   ],
   "source": [
    "import pickle\n",
    "import matplotlib.pyplot as plt\n",
    "\n",
    "beta = 1\n",
    "w = 10\n",
    "h = 100\n",
    "\n",
    "# clusters are the rows of the grid\n",
    "# a state of a cluster is the ensemble of states of its participating nodes\n",
    "# As we are in the binary case we represent them by a single integer.\n",
    "\n",
    "\n",
    "def log_p1(i, k, beta, bit_length):\n",
    "    # cluster internal (horizontal edges)\n",
    "    # bits of k represent states of internal nodes\n",
    "    # beta * (count how many neighbouring bits are the same)\n",
    "    compare = (k%(2**(bit_length-1)))^(k>>1)\n",
    "    return beta * (bit_length - 1 - bin(compare).count('1'))\n",
    "    \n",
    "def log_p2(i, j, k_i, k_j, beta, bit_length):\n",
    "    # cluster connecting (vertical edges)\n",
    "    # beta * (count how many corresponding bits are the same)\n",
    "    return beta * (bit_length - bin(k_i ^ k_j).count('1'))\n",
    "\n",
    "\n",
    "K = 2**w\n",
    "Zs = []\n",
    "betas = []\n",
    "for i in range(11):\n",
    "    beta = i*0.3\n",
    "    betas.append(beta)\n",
    "    this_log_p1 = lambda i,k : log_p1(i,k,beta,w)\n",
    "    this_log_p2 = lambda i,j,k_i,k_j : log_p2(i,j,k_i,k_j,beta,w)\n",
    "    \n",
    "    forwards, backwards = all_messages(h, K, this_log_p1, this_log_p2)\n",
    "    Z = logscale_sum(np.array([this_log_p1(0,k)+backwards[1,k] for k in range(K)]))\n",
    "    Zs.append(Z)\n",
    "    print('beta',beta,'Z',Z)\n",
    "\n",
    "with open('Zs.pkl','wb') as f:\n",
    "    pickle.dump(Zs,f)"
   ]
  },
  {
   "cell_type": "code",
   "execution_count": 113,
   "metadata": {},
   "outputs": [
    {
     "data": {
      "image/png": "[encoded data removed]",
      "text/plain": [
       "<Figure size 432x288 with 1 Axes>"
      ]
     },
     "metadata": {},
     "output_type": "display_data"
    }
   ],
   "source": [
    "with open('Zs.pkl','rb') as f:\n",
    "    Zs = pickle.load(f)\n",
    "betas = [0.3*i for i in range(11)]\n",
    "\n",
    "fig = plt.figure()\n",
    "ax = fig.add_subplot(1,1,1)\n",
    "ax.plot(betas,Zs)\n",
    "ax.set_xlabel('beta',fontsize=14)\n",
    "ax.set_ylabel('log Z',fontsize=14)\n",
    "ax.set_title('Partition function Z',fontsize=16)\n",
    "plt.style.use('ggplot')\n",
    "#fig.savefig('partition_function.png',dpi=100)"
   ]
  }
 ],
 "metadata": {
  "kernelspec": {
   "display_name": "Python 3",
   "language": "python",
   "name": "python3"
  },
  "language_info": {
   "codemirror_mode": {
    "name": "ipython",
    "version": 3
   },
   "file_extension": ".py",
   "mimetype": "text/x-python",
   "name": "python",
   "nbconvert_exporter": "python",
   "pygments_lexer": "ipython3",
   "version": "3.7.4"
  }
 },
 "nbformat": 4,
 "nbformat_minor": 2
}
